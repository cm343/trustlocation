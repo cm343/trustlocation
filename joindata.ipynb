{
 "cells": [
  {
   "cell_type": "code",
   "execution_count": 2,
   "id": "93860d26",
   "metadata": {},
   "outputs": [],
   "source": [
    "import pandas as pd\n",
    "import os\n"
   ]
  },
  {
   "cell_type": "code",
   "execution_count": 35,
   "id": "3690e287",
   "metadata": {},
   "outputs": [],
   "source": [
    "dir_path_scraped = 'data/scraped_reviews_current'\n",
    "\n",
    "reviews = pd.read_json('data/reviews_2021/review-other.json', lines=True)\n",
    "scraped_location_dir_names = os.listdir(dir_path_scraped)"
   ]
  },
  {
   "cell_type": "code",
   "execution_count": 36,
   "id": "57ac72e4",
   "metadata": {},
   "outputs": [
    {
     "data": {
      "application/vnd.microsoft.datawrangler.viewer.v0+json": {
       "columns": [
        {
         "name": "index",
         "rawType": "int64",
         "type": "integer"
        },
        {
         "name": "text",
         "rawType": "object",
         "type": "unknown"
        }
       ],
       "ref": "1b3e971e-8b3b-4127-8178-535307719a04",
       "rows": [
        [
         "0",
         "Andrea is amazing. Our dog loves her and she always looks amazing after Andrea works her magic!"
        ],
        [
         "1",
         "Andrea does a wonderful  job  with our wild Princess. Thank  you Andrea, you are the best."
        ],
        [
         "2",
         "Never called back"
        ],
        [
         "3",
         "They don't answer the phones"
        ],
        [
         "4",
         "Limited information on the website"
        ],
        [
         "5",
         "Leigh-Ann is an incredibly creative facilitator and genuinely cares about those in her community. She offers her expertise freely and always shares ideas you can modify to fit the needs of your team. I enjoy her giving spirit and she is the real deal!"
        ],
        [
         "6",
         "Leigh Ann Rodgers is THE undisputed expert in team and individual performance. She's excellent when she's personally delivering team-building workshops and when coaching individual employees, mid-managers and executives. And, she's also amazing at equipping other professionals to do that work inside their own organizations, through her Better Teams Academy and Forward community. On top of all her expertise, she's also highly personable and committed to excellence and integrity. I've known and worked with her for years, and hired her myself in recent years - and I highly recommend her to anyone who is seeking this kind of service and support."
        ],
        [
         "7",
         "Leigh Ann Rodgers is a great collaborator and a stellar facilitator/consultant. She can adapt to new projects, work cultures and colleagues easily. The Better Teams Assessment is one of the best team building tools I've used in my consulting business."
        ],
        [
         "8",
         "I really appreciate all the wisdom and experience Leigh Ann Rodgers has distilled and presented in the Team Consultant Academy course and the tools and network in Forward.  Great resource!"
        ],
        [
         "9",
         "Leigh Ann’s masterful facilitation and engagement strategies bring teams together to produce results. Her experience and stories make her relatable and a joy to work with."
        ],
        [
         "10",
         "I strongly recommend Better Teams and Leigh Ann Rodgers for any organization looking for a strong facilitator to help improve the cohesiveness and collaboration of a team. I've worked with her directly and have seen how she brings energy and a positive outlook to those working with her."
        ],
        [
         "11",
         "Leigh Ann Rodgers is the best ever business consultant I talked with. Highly recommended."
        ],
        [
         "12",
         "Highly Recommended. Increase Engagement in Online Meetings."
        ],
        [
         "13",
         "Three years ago I had a car accident and I needed immediate help to cover lost wages. Fast Funds swooped in to the rescue and advanced me money to survive. It is 3 years later now my case is settled and Fast Funds got their money back. I must say that 3 years without worrying about making a loan payment or getting collection calls is well worth the fee. I absolutely love what they did to help and would recommend them to anyone waiting on the evil insurance companies to make things whole again."
        ],
        [
         "14",
         "I wish I could give Jason and Fast Funds 10 stars for the Open & Honest way he conducted business with me.  The level of service was Exceptional.\n\nThere are many businesses designed to help people when they are in a less-than advantageous position.  Often, as customers in need of funds to sustain our living expenses we are desperate and have exhausted our resources leaving us few places to turn to and no power in the business relationship.\n\nA businessman who suffered 3 heart failures over the last 18 months and the loss of my career as a result, this certainly was the case with me.\n\nAs a company, Fast Funds clearly understands their clientele and how to do this business right.\n\nDesign your business model in such a way that you are able to charge reasonable rates to your clients and still conduct business in a fair, ethical manner.\n\nHire good people with a high level of personal integrity and treat them with the same respect you insist they treat their clients with.  Pay them a wage sufficient to attract and keep quality employees and operate under a system that allows them to keep their integrity intact.\n\nJason was clear about the cost of the advance from the beginning.  The fee structure is easy to understand and there are no hidden charges or complicated scenarios to confuse the client.\n\nAs mentioned, the level of service was superb.  Highlighted by Jason's willingness to be helpful, answer questions, sometimes a little after hours.  He was clear about the process and what to expect without any hesitation that he may be held accountable for the statements he made.\n\nI have been the owner of a service company with 30 employees and the manager of many others.  My name is Tom Hansen and I received my lawsuit advance December 17th, 2019.  My glowing review was earned each step of the way by Jason and the good people at Fast Funds of Hollywood, Florida."
        ],
        [
         "15",
         "I got over 12k $ from \" Fast Funds\" .\n\nJason,  worked quickly , and often wired my money on the same exact day.\n\nThese guys saved my but, twice !!!!\n\nThe charges were also much lower than the industry standard.\n\n5 stars . Great service and a great product if you need it . 👍"
        ],
        [
         "16",
         "I sent friends to them recently  Bruce & Jason were very attentive and a great help . I highly recommend them!!."
        ],
        [
         "17",
         "I was so pleased with the way Jason took care of everything and went out of his way to make sure I was taken care off...i was able to handle my family emergency right away  and I will be forever grateful for all the help and efficiiency....Thank you Jason ....it was truly a pleasure doing business with your company....i wish u the best...."
        ],
        [
         "18",
         "Fast Funds is a great place to do your lawsuit loan from very professional  and caring team of worker especially Mr. Jason .If you ever need any help please call them first you want be dissatisfied."
        ],
        [
         "19",
         "To whom this may concern,\nRecently, I was injured on the job. Stressed about apartment eviction and car/ insurance payments. These three are my biggest bills. After praying about my burdens, I then turned to my lawyer Mr. John Dufour. With his years of experience and affiliation with the company by the name of \"Fast Funds\" which are owned and operated by Mr. Bruce and Jason. Fast funds specializes in settlement cash advances. What does that mean? Its a financial relief for anyone who's injured. With that injury comes with a settlement offer. Well, from first hand it takes time to accumulate all the evidence in your situation. That's when hard times hit and you should contact \"Fast Funds\" where Bruce/Jason will be more than happy to assist you in your financial situation. If it wasn't for these three Angels I would be homeless, Literally! God places people in your life for a reason and these three Angels have been a blessing to my life. So stop worrying about what's already been solved. Go ahead and give \"Fast Funds\" a try Today!"
        ],
        [
         "20",
         "The best fast funds ever I lost my mother thanks to fast funds I was able to cover my mother funeral so professional and services are so fast the funds were in my account in the blink of an eye"
        ],
        [
         "21",
         null
        ],
        [
         "22",
         "Hands down some of the best customer service I have experienced within the industry! Helpful, great pricing, not to mention responding to emails after hours within record time frames!\n\nThank you for making my transaction so smooth considering all the questions I had."
        ],
        [
         "23",
         "I would definitely recommend shopping for all your off-road related items here! Everything arrived on time and in good condition. I couldn’t be happier. Great customer service from James. 10/10 would recommend!"
        ],
        [
         "24",
         "These guys are amazing and have the feel of a small shop where you can get a change to know the employees. If you have a question or need a recommendation to achieve the customization goal they can totally help you out. I bought new doors, bags, paddle tire kit and they all arrived before my big Thanksgiving trip to make my RZR look sweet. I highly recommend these guys for the huge amount of inventory, experience, and overall great prices, I can buy here without feeling the need to price shop other locations. Thank you to everyone at AO for all your help and you can betcha buns ill be back!"
        ],
        [
         "25",
         "James and Chris went above and beyond on my X3 build. The amount of detail and time they took on every little piece of this car is unmatched. And they were with me every step of the way. Pricing was competitive with online pricing yet they have a brick and mortar location.  Thanks again guys"
        ],
        [
         "26",
         "Ordered a headlight kit for my X3. Great Price and answers emails quickly. Will order from them again! Thanks!"
        ],
        [
         "27",
         "These guys are the best in the industry. They do some build and amazing work. I've been taking my utv tonthem for years now."
        ],
        [
         "28",
         "Great experience, overall - Loved it. 5 Stars.\n\nMy Raptor needed the 'Icon Vehicle Dynamics 2010 - 2014 Ford SVT Raptor 3.0 Performance Suspension - Stage 1' and I was able to checkout on the website & it got shipped relatively quickly. Nothing but good things to say about this company!"
        ],
        [
         "29",
         "I love this place! They have always treated me right and act more like friends to me than just another off-road shop! James is always upfront and honest, and always as professional as possible. Prices are always very low and Dalton does the best and cleanest wiring of any SXS shop that I have seen! They stand behind their products and will do whatever they have to to get the products you need!"
        ],
        [
         "30",
         "Love the quality of work & service here! 5/5 Stars no question"
        ],
        [
         "31",
         "I have always admired AO's builds and had one day hoped to get my car in their shop for upgrades. Before I could do that, I ran out of talent and wadded up the front end on my RZR cracking the frame in the process. I called Alternative the following day (on a Sunday) and surprisingly James answered my call. He answered all my questions and walked me through the whole insurance process without even expecting me to bring my car to him. It was like we had known each other for years.\n\nThe shop is a couple hours from me but was well worth the drive. I ended up having a lot of problems with my insurance company dropping the ball and jacking me around. James was super patient, helped me out a ton with all the issues, was up front about every detail, and finally my RZR came back looking like nothing ever happened even with a full frame swap. They went above and beyond to clean up all my wiring that another \"shop\" had slapped together.\n\nTheir pics speak for themselves. Believe me when I say their work is very clean and thorough. Solid team of guys that do things right the first time. Extremely hard to find in this industry.\n\nHighly recommend!"
        ],
        [
         "32",
         "One of the best places for off road parts."
        ],
        [
         "33",
         "My refund was issued"
        ],
        [
         "34",
         null
        ],
        [
         "35",
         null
        ],
        [
         "36",
         null
        ],
        [
         "37",
         null
        ],
        [
         "38",
         null
        ],
        [
         "39",
         null
        ],
        [
         "40",
         "Horrendous experience\n\nOrdered an expensive desk from Homary and was told 9 - 11 week delivery time. It took 21 weeks. I was very happy to wait and was very understanding due to the COVID situation however when the desk finally arrived, it was only one piece, with no legs! I was then told the remaining legs would arrive in 9 - 11 weeks again, but may be longer. I could not wait another 21 weeks as I work from home and have no where to sit!\n\nI politely asked for a refund as I couldn't wait any longer and would just purchase a cheaper desk for now that could be delivered quickly.\n\nI have only been refunded a partial amount and no idea why, as I should get the full refund - they are now ignoring my communications.\n\nHowever the most frustrating and rude part of this process is that after my understanding for 21 weeks, I asked for the large/heavy piece of unusable desk they delivered to be picked up - I cannot move it and it is taking up my entire hall. I was told I have to \"dispose of it\". I explained it is too heavy and I can't afford to get someone to come and get it, I was then told to \"Ask family or friends to help\". I have no family or friends living near me and I found this so unhelpful and pretty assumptive and upsetting. It is now sitting in my hallway as a health and safety hazard, I am £80 down as they haven't paid me a full refund and I have to order anew desk to work from after waiting 21 weeks.\n\nI never review companies online as I understand mistakes happen but I wouldn't want anyone else to deal with this incompetent company.\n\nBe warned!"
        ],
        [
         "41",
         "Hi... It's been almost a month since I purchase a table that said \"in stock\"... I requested the tracking number a few days later by email and was told it was being process and will be shipped out soon... Now weeks after it's still not shipped and no further reply to my enquires!!!"
        ],
        [
         "42",
         "Dropshipper with a large marketing budget and a website... Terrible service!"
        ],
        [
         "43",
         "It’s sounds like scam . I’ve made a purchase but haven’t received any email or communication. I can’t even contact them . Don’t even know what is my order number . Just going my bank and dispute the transaction.\nLooks like scam to me .\nScam\nScam\nScam"
        ],
        [
         "44",
         "Scam!! Buyers beware!!"
        ],
        [
         "45",
         "(Translated by Google) My worst internet ordering experience.\nAfter more than 4 months of waiting, no delivery news.\nI've never had to send so many emails for information, I've been told all kinds of excuses.\nUntil requesting a refund.\nI wasn't even answered anymore,\nI had to call 4 times in China with a person who spoke very poor English, and struggled for several weeks to get my money back\n\n(Original)\nMa pire expérience de commande sur internet.\nAprès plus de 4 mois d’attente, aucune nouvelle de livraison.\nJe n’ai jamais eu à envoyer autant de mail pour information, on m’a raconté toute sorte d’excuses.\nJusqu’à demander un remboursement.\nOn ne me répondait même plus ,\nJ’ai du appeler 4 fois en Chine avec une personne qui parle très mal anglais, et batailler plusieurs semaines pour être remboursé"
        ],
        [
         "46",
         null
        ],
        [
         "47",
         "I had what I believed was an irresolvable sandwich moistener disagreement with my neighbour. ASMC helped me make peace, and saved my home life!"
        ],
        [
         "48",
         "RUN! STAY AWAY!! This company came to my home after a pipe burst upstairs. I had water 2-3 inches deep in my home. They brought at least 6 fans and several extra humidifiers they charged insurance extra for which were never working. I locked my garage door from the inside so I could secure some of my valuables and they broke in while I was gone. They searched through my stuff and stole sodas and beer. They stole military service medals, sunglasses, and several other small items. When I confronted the head technician David Renteria, he said they broke into my garage to use the power outlet. They had also opened a case of sodas that were on a shelf nowhere near the outlet and taped the sodas together 2 at a time to prop fans up in the house. They're the most unprofessional company that I have ever dealt with. STAY AWAY! RUN!"
        ],
        [
         "49",
         "By far the best company I have dealt with. Very professional and they made sure my clients carpet was spotless clean. Thank you Rainbow Inernational for going above and beyond what I expected."
        ]
       ],
       "shape": {
        "columns": 1,
        "rows": 162952
       }
      },
      "text/plain": [
       "0         Andrea is amazing. Our dog loves her and she a...\n",
       "1         Andrea does a wonderful  job  with our wild Pr...\n",
       "2                                         Never called back\n",
       "3                              They don't answer the phones\n",
       "4                        Limited information on the website\n",
       "                                ...                        \n",
       "162947                                                 None\n",
       "162948                                                 None\n",
       "162949                                                 None\n",
       "162950                                                 None\n",
       "162951    Booking with Airpoint it's a pleasure, dealing...\n",
       "Name: text, Length: 162952, dtype: object"
      ]
     },
     "execution_count": 36,
     "metadata": {},
     "output_type": "execute_result"
    }
   ],
   "source": [
    "reviews['text']"
   ]
  },
  {
   "cell_type": "code",
   "execution_count": 37,
   "id": "72e1dd24",
   "metadata": {},
   "outputs": [
    {
     "name": "stdout",
     "output_type": "stream",
     "text": [
      "['.DS_Store', 'other_0x54ae57d7f06c1003_0x34c2a8085829aa60', 'other_0x56c89bb5e6c3f8f9_0x498f8d3cbd9fc5cd', 'other_0x56e7db2ef389d417_0x7f05543be7b6696a', 'other_0x65366110b4bb8589_0xba6a5e6a2c464a07', 'other_0x7c006f4cb974a3e1_0xae116dec0797ec89', 'other_0x80857df70ffb8bd9_0x4280410e902aba71', 'other_0x8091075d77223b41_0xe7d01e2d7772a521', 'other_0x80c298fde236285f_0x909139a34af6bb94', 'other_0x80c29989aeee99ad_0x197dd179c1a72a3f', 'other_0x80c29dd709d02059_0x6e7d1dfbe9bd3293', 'other_0x80c2beb6d338152d_0xb3c1f68a0ba35406', 'other_0x80c2c103b679a281_0x10bd017cca3e3a13', 'other_0x80c33566ca8de35f_0x37ac3d2b82477e09', 'other_0x80c8e9fed6339605_0xab54819296381ff0', 'other_0x88d9c7086963457b_0xd27ecdbe17ff2706', 'other_0x88ded7b5c2c995ad_0xb0c114770579e806', 'other_0x88e5b79e5f41b0fb_0xdbd5704aa85a7532', 'other_0x88e779c52062ada1_0xba880dc8334a1aa2', 'other_0x88e7d1986efcd567_0x927e07b6d5e7b3d5', 'other_0x88f5b912c5e2860f_0x40c4c23bade0547', 'other_0x89a9f3405c6ed5a9_0xe416edfb7db0b5fe', 'other_0x89b64806fedaaaab_0x2b43ebb391ac4622', 'other_0x89b708db6540136d_0xdef7a4ccda577359', 'other_0x89b7b94e43b3d807_0x8cc2b354fc6aad0f', 'other_0x89c2594b9e7f1e03_0xaf76340c724d9292', 'other_0x89c3b5ed4f15020d_0xb2e68fe841e11d36', 'other_0x89c4a1dd4dbabfe7_0xba114671efb629fa', 'other_0x89c50574b9e9c7e3_0x10dbdf414b29f680', 'other_0x89c67d6f8aa3c4e3_0x57816e10695103bf', 'other_0x89d30d2ffa56c4fd_0xac426c83b2b960ab', 'other_0x89d3716275262df9_0x5bf4f106fee464b7', 'other_0x89d9470242676595_0xedefa74c66749253', 'other_0x89e31687179c1971_0xf1c0726af262e228', 'other_0x89e653296293b521_0x37125d0e7cf86bb2', 'other_0x80dc0b10bc5e42fb_0x158c5f01eba47122', 'other_0x80dc0ed49bec5555_0x26ea9d389835416a', 'other_0x86e744f9b7dd0c53_0x8abeb27614d641ac', 'other_0x86e7599e639e77d3_0x789fcd31d212a69e', 'other_0x87b21db27b804397_0x870aa4751606fc3', 'other_0x87d57e266fc70f8d_0xd88813af77aa0b14', 'other_0x88051b1a90681873_0xfc198b4b2246e050', 'other_0x883b339f4417af3f_0xedfd3a2a26f199a2', 'other_0x88620f65dbac09bf_0x9faf469430a7bd8c', 'other_0x88644f76605b43ad_0x21146d72432f7f9', 'other_0x888ad7f4bcdd473d_0x9674df62e0837abf', 'other_0x889169854e295c5b_0x8987113a1d277d35', 'other_0x80dbe9d8b8a75137_0xd6e3f8a590a5c774', 'other_0x88d905b83b16d81f_0x5fe7c5030027ef']\n",
      "[Errno 2] No such file or directory: 'data/scraped_reviews_current/other_0x54ae57d7f06c1003_0x34c2a8085829aa60/reviews.csv'\n",
      "[Errno 2] No such file or directory: 'data/scraped_reviews_current/other_0x86e7599e639e77d3_0x789fcd31d212a69e/reviews.csv'\n",
      "[Errno 2] No such file or directory: 'data/scraped_reviews_current/other_0x86e7599e639e77d3_0x789fcd31d212a69e/reviews.csv'\n",
      "[Errno 2] No such file or directory: 'data/scraped_reviews_current/other_0x86e7599e639e77d3_0x789fcd31d212a69e/reviews.csv'\n",
      "[Errno 2] No such file or directory: 'data/scraped_reviews_current/other_0x86e7599e639e77d3_0x789fcd31d212a69e/reviews.csv'\n",
      "[Errno 2] No such file or directory: 'data/scraped_reviews_current/other_0x86e7599e639e77d3_0x789fcd31d212a69e/reviews.csv'\n",
      "[Errno 2] No such file or directory: 'data/scraped_reviews_current/other_0x80857df70ffb8bd9_0x4280410e902aba71/reviews.csv'\n",
      "[Errno 2] No such file or directory: 'data/scraped_reviews_current/other_0x80857df70ffb8bd9_0x4280410e902aba71/reviews.csv'\n",
      "[Errno 2] No such file or directory: 'data/scraped_reviews_current/other_0x80857df70ffb8bd9_0x4280410e902aba71/reviews.csv'\n",
      "[Errno 2] No such file or directory: 'data/scraped_reviews_current/other_0x80857df70ffb8bd9_0x4280410e902aba71/reviews.csv'\n",
      "[Errno 2] No such file or directory: 'data/scraped_reviews_current/other_0x80857df70ffb8bd9_0x4280410e902aba71/reviews.csv'\n",
      "[Errno 2] No such file or directory: 'data/scraped_reviews_current/other_0x80857df70ffb8bd9_0x4280410e902aba71/reviews.csv'\n",
      "[Errno 2] No such file or directory: 'data/scraped_reviews_current/other_0x80857df70ffb8bd9_0x4280410e902aba71/reviews.csv'\n",
      "[Errno 2] No such file or directory: 'data/scraped_reviews_current/other_0x80857df70ffb8bd9_0x4280410e902aba71/reviews.csv'\n",
      "[Errno 2] No such file or directory: 'data/scraped_reviews_current/other_0x80857df70ffb8bd9_0x4280410e902aba71/reviews.csv'\n",
      "[Errno 2] No such file or directory: 'data/scraped_reviews_current/other_0x80857df70ffb8bd9_0x4280410e902aba71/reviews.csv'\n",
      "[Errno 2] No such file or directory: 'data/scraped_reviews_current/other_0x80857df70ffb8bd9_0x4280410e902aba71/reviews.csv'\n",
      "[Errno 2] No such file or directory: 'data/scraped_reviews_current/other_0x80857df70ffb8bd9_0x4280410e902aba71/reviews.csv'\n",
      "[Errno 2] No such file or directory: 'data/scraped_reviews_current/other_0x80857df70ffb8bd9_0x4280410e902aba71/reviews.csv'\n",
      "[Errno 2] No such file or directory: 'data/scraped_reviews_current/other_0x80857df70ffb8bd9_0x4280410e902aba71/reviews.csv'\n",
      "[Errno 2] No such file or directory: 'data/scraped_reviews_current/other_0x80857df70ffb8bd9_0x4280410e902aba71/reviews.csv'\n",
      "[Errno 2] No such file or directory: 'data/scraped_reviews_current/other_0x80857df70ffb8bd9_0x4280410e902aba71/reviews.csv'\n",
      "[Errno 2] No such file or directory: 'data/scraped_reviews_current/other_0x80857df70ffb8bd9_0x4280410e902aba71/reviews.csv'\n",
      "[Errno 2] No such file or directory: 'data/scraped_reviews_current/other_0x54ae57d7f06c1003_0x34c2a8085829aa60/reviews.csv'\n",
      "[Errno 2] No such file or directory: 'data/scraped_reviews_current/other_0x86e7599e639e77d3_0x789fcd31d212a69e/reviews.csv'\n",
      "[Errno 2] No such file or directory: 'data/scraped_reviews_current/other_0x86e7599e639e77d3_0x789fcd31d212a69e/reviews.csv'\n",
      "[Errno 2] No such file or directory: 'data/scraped_reviews_current/other_0x86e7599e639e77d3_0x789fcd31d212a69e/reviews.csv'\n",
      "[Errno 2] No such file or directory: 'data/scraped_reviews_current/other_0x86e7599e639e77d3_0x789fcd31d212a69e/reviews.csv'\n",
      "[Errno 2] No such file or directory: 'data/scraped_reviews_current/other_0x86e7599e639e77d3_0x789fcd31d212a69e/reviews.csv'\n",
      "[Errno 2] No such file or directory: 'data/scraped_reviews_current/other_0x80857df70ffb8bd9_0x4280410e902aba71/reviews.csv'\n",
      "[Errno 2] No such file or directory: 'data/scraped_reviews_current/other_0x80857df70ffb8bd9_0x4280410e902aba71/reviews.csv'\n",
      "[Errno 2] No such file or directory: 'data/scraped_reviews_current/other_0x80857df70ffb8bd9_0x4280410e902aba71/reviews.csv'\n",
      "[Errno 2] No such file or directory: 'data/scraped_reviews_current/other_0x80857df70ffb8bd9_0x4280410e902aba71/reviews.csv'\n",
      "[Errno 2] No such file or directory: 'data/scraped_reviews_current/other_0x80857df70ffb8bd9_0x4280410e902aba71/reviews.csv'\n",
      "[Errno 2] No such file or directory: 'data/scraped_reviews_current/other_0x80857df70ffb8bd9_0x4280410e902aba71/reviews.csv'\n",
      "[Errno 2] No such file or directory: 'data/scraped_reviews_current/other_0x80857df70ffb8bd9_0x4280410e902aba71/reviews.csv'\n",
      "[Errno 2] No such file or directory: 'data/scraped_reviews_current/other_0x80857df70ffb8bd9_0x4280410e902aba71/reviews.csv'\n",
      "[Errno 2] No such file or directory: 'data/scraped_reviews_current/other_0x80857df70ffb8bd9_0x4280410e902aba71/reviews.csv'\n",
      "[Errno 2] No such file or directory: 'data/scraped_reviews_current/other_0x80857df70ffb8bd9_0x4280410e902aba71/reviews.csv'\n",
      "[Errno 2] No such file or directory: 'data/scraped_reviews_current/other_0x80857df70ffb8bd9_0x4280410e902aba71/reviews.csv'\n",
      "[Errno 2] No such file or directory: 'data/scraped_reviews_current/other_0x80857df70ffb8bd9_0x4280410e902aba71/reviews.csv'\n",
      "[Errno 2] No such file or directory: 'data/scraped_reviews_current/other_0x80857df70ffb8bd9_0x4280410e902aba71/reviews.csv'\n",
      "[Errno 2] No such file or directory: 'data/scraped_reviews_current/other_0x80857df70ffb8bd9_0x4280410e902aba71/reviews.csv'\n",
      "[Errno 2] No such file or directory: 'data/scraped_reviews_current/other_0x80857df70ffb8bd9_0x4280410e902aba71/reviews.csv'\n",
      "[Errno 2] No such file or directory: 'data/scraped_reviews_current/other_0x80857df70ffb8bd9_0x4280410e902aba71/reviews.csv'\n",
      "[Errno 2] No such file or directory: 'data/scraped_reviews_current/other_0x80857df70ffb8bd9_0x4280410e902aba71/reviews.csv'\n",
      "[Errno 2] No such file or directory: 'data/scraped_reviews_current/other_0x80dbe9d8b8a75137_0xd6e3f8a590a5c774/reviews.csv'\n",
      "[Errno 2] No such file or directory: 'data/scraped_reviews_current/other_0x88e7d1986efcd567_0x927e07b6d5e7b3d5/reviews.csv'\n",
      "[Errno 2] No such file or directory: 'data/scraped_reviews_current/other_0x883b339f4417af3f_0xedfd3a2a26f199a2/reviews.csv'\n",
      "[Errno 2] No such file or directory: 'data/scraped_reviews_current/other_0x883b339f4417af3f_0xedfd3a2a26f199a2/reviews.csv'\n",
      "[Errno 2] No such file or directory: 'data/scraped_reviews_current/other_0x883b339f4417af3f_0xedfd3a2a26f199a2/reviews.csv'\n",
      "[Errno 2] No such file or directory: 'data/scraped_reviews_current/other_0x883b339f4417af3f_0xedfd3a2a26f199a2/reviews.csv'\n",
      "[Errno 2] No such file or directory: 'data/scraped_reviews_current/other_0x883b339f4417af3f_0xedfd3a2a26f199a2/reviews.csv'\n",
      "[Errno 2] No such file or directory: 'data/scraped_reviews_current/other_0x89b7b94e43b3d807_0x8cc2b354fc6aad0f/reviews.csv'\n",
      "[Errno 2] No such file or directory: 'data/scraped_reviews_current/other_0x89b7b94e43b3d807_0x8cc2b354fc6aad0f/reviews.csv'\n",
      "[Errno 2] No such file or directory: 'data/scraped_reviews_current/other_0x89b7b94e43b3d807_0x8cc2b354fc6aad0f/reviews.csv'\n",
      "[Errno 2] No such file or directory: 'data/scraped_reviews_current/other_0x89b7b94e43b3d807_0x8cc2b354fc6aad0f/reviews.csv'\n",
      "[Errno 2] No such file or directory: 'data/scraped_reviews_current/other_0x89b7b94e43b3d807_0x8cc2b354fc6aad0f/reviews.csv'\n",
      "[Errno 2] No such file or directory: 'data/scraped_reviews_current/other_0x89b7b94e43b3d807_0x8cc2b354fc6aad0f/reviews.csv'\n",
      "[Errno 2] No such file or directory: 'data/scraped_reviews_current/other_0x89b7b94e43b3d807_0x8cc2b354fc6aad0f/reviews.csv'\n",
      "[Errno 2] No such file or directory: 'data/scraped_reviews_current/other_0x89b7b94e43b3d807_0x8cc2b354fc6aad0f/reviews.csv'\n",
      "[Errno 2] No such file or directory: 'data/scraped_reviews_current/other_0x89b7b94e43b3d807_0x8cc2b354fc6aad0f/reviews.csv'\n",
      "[Errno 2] No such file or directory: 'data/scraped_reviews_current/other_0x89b7b94e43b3d807_0x8cc2b354fc6aad0f/reviews.csv'\n",
      "[Errno 2] No such file or directory: 'data/scraped_reviews_current/other_0x89b7b94e43b3d807_0x8cc2b354fc6aad0f/reviews.csv'\n",
      "[Errno 2] No such file or directory: 'data/scraped_reviews_current/other_0x89b7b94e43b3d807_0x8cc2b354fc6aad0f/reviews.csv'\n",
      "[Errno 2] No such file or directory: 'data/scraped_reviews_current/other_0x89b7b94e43b3d807_0x8cc2b354fc6aad0f/reviews.csv'\n",
      "[Errno 2] No such file or directory: 'data/scraped_reviews_current/other_0x89b7b94e43b3d807_0x8cc2b354fc6aad0f/reviews.csv'\n",
      "[Errno 2] No such file or directory: 'data/scraped_reviews_current/other_0x89b7b94e43b3d807_0x8cc2b354fc6aad0f/reviews.csv'\n",
      "[Errno 2] No such file or directory: 'data/scraped_reviews_current/other_0x89b7b94e43b3d807_0x8cc2b354fc6aad0f/reviews.csv'\n",
      "[Errno 2] No such file or directory: 'data/scraped_reviews_current/other_0x89b7b94e43b3d807_0x8cc2b354fc6aad0f/reviews.csv'\n",
      "[Errno 2] No such file or directory: 'data/scraped_reviews_current/other_0x89b7b94e43b3d807_0x8cc2b354fc6aad0f/reviews.csv'\n",
      "[Errno 2] No such file or directory: 'data/scraped_reviews_current/other_0x88d905b83b16d81f_0x5fe7c5030027ef/reviews.csv'\n",
      "[Errno 2] No such file or directory: 'data/scraped_reviews_current/other_0x89c2594b9e7f1e03_0xaf76340c724d9292/reviews.csv'\n",
      "[Errno 2] No such file or directory: 'data/scraped_reviews_current/other_0x89c2594b9e7f1e03_0xaf76340c724d9292/reviews.csv'\n",
      "[Errno 2] No such file or directory: 'data/scraped_reviews_current/other_0x89c2594b9e7f1e03_0xaf76340c724d9292/reviews.csv'\n",
      "[Errno 2] No such file or directory: 'data/scraped_reviews_current/other_0x89c2594b9e7f1e03_0xaf76340c724d9292/reviews.csv'\n",
      "[Errno 2] No such file or directory: 'data/scraped_reviews_current/other_0x89c2594b9e7f1e03_0xaf76340c724d9292/reviews.csv'\n",
      "[Errno 2] No such file or directory: 'data/scraped_reviews_current/other_0x89c2594b9e7f1e03_0xaf76340c724d9292/reviews.csv'\n",
      "[Errno 2] No such file or directory: 'data/scraped_reviews_current/other_0x89c2594b9e7f1e03_0xaf76340c724d9292/reviews.csv'\n",
      "[Errno 2] No such file or directory: 'data/scraped_reviews_current/other_0x89c2594b9e7f1e03_0xaf76340c724d9292/reviews.csv'\n",
      "[Errno 2] No such file or directory: 'data/scraped_reviews_current/other_0x89c2594b9e7f1e03_0xaf76340c724d9292/reviews.csv'\n",
      "[Errno 2] No such file or directory: 'data/scraped_reviews_current/other_0x89c2594b9e7f1e03_0xaf76340c724d9292/reviews.csv'\n",
      "[Errno 2] No such file or directory: 'data/scraped_reviews_current/other_0x89c2594b9e7f1e03_0xaf76340c724d9292/reviews.csv'\n",
      "[Errno 2] No such file or directory: 'data/scraped_reviews_current/other_0x89c2594b9e7f1e03_0xaf76340c724d9292/reviews.csv'\n",
      "[Errno 2] No such file or directory: 'data/scraped_reviews_current/other_0x89c2594b9e7f1e03_0xaf76340c724d9292/reviews.csv'\n",
      "[Errno 2] No such file or directory: 'data/scraped_reviews_current/other_0x89c2594b9e7f1e03_0xaf76340c724d9292/reviews.csv'\n",
      "[Errno 2] No such file or directory: 'data/scraped_reviews_current/other_0x89c2594b9e7f1e03_0xaf76340c724d9292/reviews.csv'\n",
      "[Errno 2] No such file or directory: 'data/scraped_reviews_current/other_0x89c2594b9e7f1e03_0xaf76340c724d9292/reviews.csv'\n",
      "[Errno 2] No such file or directory: 'data/scraped_reviews_current/other_0x89c2594b9e7f1e03_0xaf76340c724d9292/reviews.csv'\n",
      "[Errno 2] No such file or directory: 'data/scraped_reviews_current/other_0x89c2594b9e7f1e03_0xaf76340c724d9292/reviews.csv'\n",
      "[Errno 2] No such file or directory: 'data/scraped_reviews_current/other_0x89c2594b9e7f1e03_0xaf76340c724d9292/reviews.csv'\n",
      "[Errno 2] No such file or directory: 'data/scraped_reviews_current/other_0x89c2594b9e7f1e03_0xaf76340c724d9292/reviews.csv'\n",
      "[Errno 2] No such file or directory: 'data/scraped_reviews_current/other_0x89c2594b9e7f1e03_0xaf76340c724d9292/reviews.csv'\n",
      "[Errno 2] No such file or directory: 'data/scraped_reviews_current/other_0x89c2594b9e7f1e03_0xaf76340c724d9292/reviews.csv'\n",
      "[Errno 2] No such file or directory: 'data/scraped_reviews_current/other_0x89c2594b9e7f1e03_0xaf76340c724d9292/reviews.csv'\n",
      "[Errno 2] No such file or directory: 'data/scraped_reviews_current/other_0x89c2594b9e7f1e03_0xaf76340c724d9292/reviews.csv'\n",
      "[Errno 2] No such file or directory: 'data/scraped_reviews_current/other_0x89c2594b9e7f1e03_0xaf76340c724d9292/reviews.csv'\n",
      "[Errno 2] No such file or directory: 'data/scraped_reviews_current/other_0x89c2594b9e7f1e03_0xaf76340c724d9292/reviews.csv'\n",
      "[Errno 2] No such file or directory: 'data/scraped_reviews_current/other_0x89c2594b9e7f1e03_0xaf76340c724d9292/reviews.csv'\n",
      "[Errno 2] No such file or directory: 'data/scraped_reviews_current/other_0x89c2594b9e7f1e03_0xaf76340c724d9292/reviews.csv'\n",
      "[Errno 2] No such file or directory: 'data/scraped_reviews_current/other_0x89c2594b9e7f1e03_0xaf76340c724d9292/reviews.csv'\n",
      "[Errno 2] No such file or directory: 'data/scraped_reviews_current/other_0x89c2594b9e7f1e03_0xaf76340c724d9292/reviews.csv'\n",
      "[Errno 2] No such file or directory: 'data/scraped_reviews_current/other_0x89c2594b9e7f1e03_0xaf76340c724d9292/reviews.csv'\n",
      "[Errno 2] No such file or directory: 'data/scraped_reviews_current/other_0x89c2594b9e7f1e03_0xaf76340c724d9292/reviews.csv'\n",
      "[Errno 2] No such file or directory: 'data/scraped_reviews_current/other_0x89c2594b9e7f1e03_0xaf76340c724d9292/reviews.csv'\n",
      "[Errno 2] No such file or directory: 'data/scraped_reviews_current/other_0x89c2594b9e7f1e03_0xaf76340c724d9292/reviews.csv'\n",
      "[Errno 2] No such file or directory: 'data/scraped_reviews_current/other_0x89c2594b9e7f1e03_0xaf76340c724d9292/reviews.csv'\n",
      "[Errno 2] No such file or directory: 'data/scraped_reviews_current/other_0x89c2594b9e7f1e03_0xaf76340c724d9292/reviews.csv'\n",
      "[Errno 2] No such file or directory: 'data/scraped_reviews_current/other_0x89c2594b9e7f1e03_0xaf76340c724d9292/reviews.csv'\n",
      "[Errno 2] No such file or directory: 'data/scraped_reviews_current/other_0x89c2594b9e7f1e03_0xaf76340c724d9292/reviews.csv'\n",
      "[Errno 2] No such file or directory: 'data/scraped_reviews_current/other_0x89c3b5ed4f15020d_0xb2e68fe841e11d36/reviews.csv'\n",
      "[Errno 2] No such file or directory: 'data/scraped_reviews_current/other_0x80c298fde236285f_0x909139a34af6bb94/reviews.csv'\n",
      "[Errno 2] No such file or directory: 'data/scraped_reviews_current/other_0x80c298fde236285f_0x909139a34af6bb94/reviews.csv'\n",
      "[Errno 2] No such file or directory: 'data/scraped_reviews_current/other_0x80c298fde236285f_0x909139a34af6bb94/reviews.csv'\n"
     ]
    }
   ],
   "source": [
    "\n",
    "print(scraped_location_dir_names)\n",
    "\n",
    "reviews['still_exists'] = None\n",
    "for i in range(len(reviews)):\n",
    "    first_part, second_part  = reviews['gmap_id'][i].split(':')  \n",
    "    dir_name = \"other_\" + first_part + \"_\" + second_part\n",
    "\n",
    "    if dir_name in scraped_location_dir_names:\n",
    "        try:\n",
    "            location_reviews = pd.read_csv(f'{dir_path_scraped}/{dir_name}/reviews.csv')\n",
    "            for j in range(len(location_reviews)):\n",
    "                location_reviews.loc[j, \"description\"] = location_reviews['description'][j][8:-2]\n",
    "                #print(location_reviews['description'][j])\n",
    "            #print(location_reviews[\"description\"])\n",
    "            if reviews['text'][i] in location_reviews['description'].values:\n",
    "                reviews.loc[i, \"still_exists\"] = \"exists\"\n",
    "            else:\n",
    "                reviews.loc[i, \"still_exists\"] = \"removed\"\n",
    "        except Exception as e:\n",
    "            print(e)\n",
    "            reviews.loc[i, \"still_exists\"] = \"error\"\n",
    "    else: \n",
    "        reviews.loc[i, \"still_exists\"] = \"error\"\n",
    "reviews.to_csv(\"output.csv\", index=False) "
   ]
  },
  {
   "cell_type": "code",
   "execution_count": 39,
   "id": "fabf4cce",
   "metadata": {},
   "outputs": [
    {
     "data": {
      "text/plain": [
       "Index(['user_id', 'name', 'time', 'rating', 'text', 'pics', 'resp', 'gmap_id',\n",
       "       'still_exists'],\n",
       "      dtype='object')"
      ]
     },
     "execution_count": 39,
     "metadata": {},
     "output_type": "execute_result"
    }
   ],
   "source": [
    "reviews = reviews[reviews['still_exists'] != \"error\"]\n",
    "reviews.to_csv(\"output_without_erros.csv\", index=False) \n",
    "reviews.columns"
   ]
  },
  {
   "cell_type": "code",
   "execution_count": 3,
   "id": "c5bde729",
   "metadata": {},
   "outputs": [],
   "source": [
    "reviews = pd.read_json('data/reviews_2021/review-other.json', lines=True).head(5000)\n",
    "reviews.to_csv(\"review_other_head.csv\", index=False) "
   ]
  }
 ],
 "metadata": {
  "kernelspec": {
   "display_name": "Python 3",
   "language": "python",
   "name": "python3"
  },
  "language_info": {
   "codemirror_mode": {
    "name": "ipython",
    "version": 3
   },
   "file_extension": ".py",
   "mimetype": "text/x-python",
   "name": "python",
   "nbconvert_exporter": "python",
   "pygments_lexer": "ipython3",
   "version": "3.12.11"
  }
 },
 "nbformat": 4,
 "nbformat_minor": 5
}
