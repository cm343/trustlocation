import os
import pandas as pd
from openai import OpenAI
import time
import json

INPUT_FILE = 'INPUT_FILE'
OUTPUT_FILE = 'OUTPUT_FILE'
TEXT_COLUMN = 'content'
MODEL = 'gpt-4o-mini'
RATE_LIMIT = 100
TEST_KEY = 'REPLACE_WITH_YOUR_OWN_TEST_KEY'
BATCH_SIZE = 10


client = OpenAI(api_key=TEST_KEY)
df = pd.read_csv(INPUT_FILE)
df['label'] = None

def label_batch(batch_texts):
    numbered = "\n".join([f"{i+1}. {txt}" for i, txt in enumerate(batch_texts)])
    prompt = f"""
    You are labeling user reviews in Google Maps. Return the labels in JSON format.
    Labels:
    VALID (normal, relevant review about the hotel, staff, waiting time, etc)
    AD (marketing, contains links. E.g: "Best pizza! Visit www.pizzapromo.com for discounts!”, "Click on this link for 10% discount", "Check out this wonderful spot: https://facebook.com")
    IRRELEVANT (mention something unrelated to the topic of review - restaurants reviews: "I love my phone, and food here is good")
    NON-VISITED (complaints/rants without actual experience, contain negative review with lack of details. E.g: “Never been here, but I heard it’s terrible.”, "This space is super terrible never would come back")

    Review: "{numbered}"
    return an array of labels

    """
    response = client.chat.completions.create(
        model=MODEL,
        messages=[{"role": "user", "content": prompt}],
        response_format= { "type": "json_object" }
    )

    try:
        labels = json.loads(response.choices[0].message.content.strip())
        print(labels)
    except Exception as e:
        print("JSON parse error:", e)
        labels = ["ERROR"] * len(batch_texts)

    return labels

unlabeled_df = df[df['label'].isna()].iloc[:100]
data = label_batch(unlabeled_df[TEXT_COLUMN].tolist())

unlabeled_idx = df[df['label'].isna()].index  
for idx, new_label in zip(unlabeled_idx, data['labels']):
    df.at[idx, "label"] = new_label



df.to_csv(OUTPUT_FILE, index=False)
print(f"Save output to {OUTPUT_FILE}")
