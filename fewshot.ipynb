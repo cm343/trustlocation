{
 "cells": [
  {
   "cell_type": "code",
   "execution_count": 3,
   "id": "3085468f",
   "metadata": {},
   "outputs": [
    {
     "name": "stderr",
     "output_type": "stream",
     "text": [
      "2025-08-29 22:00:53.653325: I tensorflow/core/platform/cpu_feature_guard.cc:210] This TensorFlow binary is optimized to use available CPU instructions in performance-critical operations.\n",
      "To enable the following instructions: AVX2 FMA, in other operations, rebuild TensorFlow with the appropriate compiler flags.\n"
     ]
    },
    {
     "ename": "AttributeError",
     "evalue": "'MessageFactory' object has no attribute 'GetPrototype'",
     "output_type": "error",
     "traceback": [
      "\u001b[31m---------------------------------------------------------------------------\u001b[39m",
      "\u001b[31mAttributeError\u001b[39m                            Traceback (most recent call last)",
      "\u001b[31mAttributeError\u001b[39m: 'MessageFactory' object has no attribute 'GetPrototype'"
     ]
    }
   ],
   "source": [
    "from transformers import DistilBertTokenizer, DistilBertModel\n",
    "import torch\n",
    "from torch.utils.data import TensorDataset\n",
    "from torch.utils.data import DataLoader\n",
    "import pandas as pd\n",
    "import torch.nn as nn\n",
    "import torch.nn.functional as F\n",
    "import numpy as np\n",
    "from sklearn.preprocessing import StandardScaler\n",
    "from sklearn.model_selection import train_test_split\n",
    "from datetime import datetime\n",
    "from sklearn.metrics import precision_score, recall_score, confusion_matrix, accuracy_score\n",
    "from torch.utils.data import WeightedRandomSampler\n",
    "from torch.utils.data import RandomSampler\n",
    "from transformers import T5Tokenizer, T5ForConditionalGeneration\n",
    "\n",
    "from transformers import pipeline\n"
   ]
  },
  {
   "cell_type": "code",
   "execution_count": 4,
   "id": "84672609",
   "metadata": {},
   "outputs": [],
   "source": [
    "model_feature_fewshot = ['author_name' ,'number_authors_comments', \n",
    "                  'rating', 'text',  \n",
    "                   'photo_attached', \n",
    "                  'responses','number_of_responses','location_name', 'location_type', 'MISC' ]\n",
    "\n",
    "photo_attached_categories = [\n",
    "    \"No\",\n",
    "    \"Yes\", \n",
    "    \"Unknown\"\n",
    "]"
   ]
  },
  {
   "cell_type": "code",
   "execution_count": 5,
   "id": "6bf077f9",
   "metadata": {},
   "outputs": [],
   "source": [
    "\n",
    "\n",
    "def preprocess_scraped_data_for_fewshot(reviews, metadata):\n",
    "    input_format = ['user_id', 'name', 'time', 'rating', 'text', 'pics', 'resp', 'gmap_id','label']\n",
    "    shop_metadata_input_format = ['name', 'address', 'gmap_id', 'description', 'latitude', 'longitude',\n",
    "       'category', 'avg_rating', 'num_of_reviews', 'price', 'hours', 'MISC',\n",
    "       'state', 'relative_results', 'url']\n",
    "\n",
    "    if not (set(input_format).issubset(set(reviews.columns))):\n",
    "        raise ValueError(\"Reviews dataframe does not have the correct columns\")\n",
    "    if not (set(shop_metadata_input_format).issubset(set(metadata.columns))):\n",
    "        raise ValueError(\"Meta dataframe does not have the correct columns\")\n",
    "    \n",
    "    \n",
    "    metadata['shop_name'] = metadata['name']\n",
    "    metadata.drop(columns=['name'], inplace=True)\n",
    "    metadata = metadata.drop_duplicates(subset=['gmap_id'])\n",
    "\n",
    "    df_in = pd.merge(reviews, metadata, on='gmap_id', how='left')\n",
    "\n",
    "\n",
    "    df_out = pd.DataFrame(columns=model_feature_fewshot) \n",
    "\n",
    "    df_out['author_name'] = df_in['name'].fillna(\"\").astype(str)\n",
    "    df_out['number_authors_comments'] = -1\n",
    "    df_out['rating'] = df_in['rating'].fillna(-1).astype(int)\n",
    "    df_out['text'] = df_in['text'].fillna(\"\").astype(str)\n",
    "    df_out['location_type'] = df_in['category'].fillna(\"Unknown\").astype(str)\n",
    "    df_out['location_name'] = df_in['shop_name'].fillna(\"Unknown\").astype(str)\n",
    "    df_out['MISC'] = df_in['MISC'].fillna(\"No MISC available\").astype(str)\n",
    "    #df_out['time'] = df_in['time'].fillna(-1).astype(int)\n",
    "    df_out['photo_attached'] = df_in['pics'].apply(lambda x: \"No\" if pd.isna(x) else \"Yes\").astype(str)\n",
    "    df_out['number_of_responses'] = df_in['resp'].apply(lambda x: 0 if pd.isna(x) else 1 ) # TODO: currently only one rsponse if multiple, correct in future \n",
    "    df_out['responses'] = df_in['resp'].fillna(\"\").astype(str)\n",
    "    return df_out   \n",
    "\n",
    "\n"
   ]
  },
  {
   "cell_type": "code",
   "execution_count": 6,
   "id": "6c1b6d34",
   "metadata": {},
   "outputs": [],
   "source": [
    "meta = pd.read_json('data/reviews_2021/meta-other.json', lines=True)\n",
    "reviews = pd.read_csv('review_other_head_labeled.csv').head(300)\n",
    "features = preprocess_scraped_data_for_fewshot(metadata=meta, reviews=reviews)\n",
    "# Split into train (80%) and test (20%)\n",
    "x_train, x_test, y_train, y_test = train_test_split(features , reviews['label'], test_size=0.2, random_state=42, stratify=reviews['label'] ) # stratify keeps class balance))"
   ]
  },
  {
   "cell_type": "code",
   "execution_count": 7,
   "id": "28652ba9",
   "metadata": {},
   "outputs": [
    {
     "name": "stdout",
     "output_type": "stream",
     "text": [
      "author_name                                                Teijah Armbruster\n",
      "number_authors_comments                                                   -1\n",
      "rating                                                                     5\n",
      "text                       Leslie had just finished a newborn photography...\n",
      "photo_attached                                                            No\n",
      "responses                                                                   \n",
      "number_of_responses                                                        0\n",
      "location_name                                    Leslie Carbajal Photography\n",
      "location_type                      ['Photographer', 'Service establishment']\n",
      "MISC                       {'From the business': ['Identifies as Black-ow...\n",
      "Name: 108, dtype: object\n"
     ]
    }
   ],
   "source": [
    "print(str(x_test.iloc[1]))"
   ]
  },
  {
   "cell_type": "code",
   "execution_count": 12,
   "id": "971ede50",
   "metadata": {},
   "outputs": [
    {
     "data": {
      "application/vnd.jupyter.widget-view+json": {
       "model_id": "dcdd1e65c0754308ba790937f11a1bd4",
       "version_major": 2,
       "version_minor": 0
      },
      "text/plain": [
       "config.json: 0.00B [00:00, ?B/s]"
      ]
     },
     "metadata": {},
     "output_type": "display_data"
    },
    {
     "name": "stderr",
     "output_type": "stream",
     "text": [
      "Xet Storage is enabled for this repo, but the 'hf_xet' package is not installed. Falling back to regular HTTP download. For better performance, install the package with: `pip install huggingface_hub[hf_xet]` or `pip install hf_xet`\n"
     ]
    },
    {
     "data": {
      "application/vnd.jupyter.widget-view+json": {
       "model_id": "9bbcf61ee7db4e628ec4f634b7755087",
       "version_major": 2,
       "version_minor": 0
      },
      "text/plain": [
       "model.safetensors:   0%|          | 0.00/308M [00:00<?, ?B/s]"
      ]
     },
     "metadata": {},
     "output_type": "display_data"
    },
    {
     "data": {
      "application/vnd.jupyter.widget-view+json": {
       "model_id": "596276d5b46740deb94ee1b9c582b9de",
       "version_major": 2,
       "version_minor": 0
      },
      "text/plain": [
       "generation_config.json:   0%|          | 0.00/147 [00:00<?, ?B/s]"
      ]
     },
     "metadata": {},
     "output_type": "display_data"
    },
    {
     "data": {
      "application/vnd.jupyter.widget-view+json": {
       "model_id": "9328a51717a94e5282c27d6cc1d8ea7c",
       "version_major": 2,
       "version_minor": 0
      },
      "text/plain": [
       "tokenizer_config.json: 0.00B [00:00, ?B/s]"
      ]
     },
     "metadata": {},
     "output_type": "display_data"
    },
    {
     "name": "stderr",
     "output_type": "stream",
     "text": [
      "Xet Storage is enabled for this repo, but the 'hf_xet' package is not installed. Falling back to regular HTTP download. For better performance, install the package with: `pip install huggingface_hub[hf_xet]` or `pip install hf_xet`\n"
     ]
    },
    {
     "data": {
      "application/vnd.jupyter.widget-view+json": {
       "model_id": "bdb12c09550d4b27ad1b1a7129d5570a",
       "version_major": 2,
       "version_minor": 0
      },
      "text/plain": [
       "(…)a5b18a05535c9e14c7a355904270e15b0945ea86:   0%|          | 0.00/792k [00:00<?, ?B/s]"
      ]
     },
     "metadata": {},
     "output_type": "display_data"
    },
    {
     "data": {
      "application/vnd.jupyter.widget-view+json": {
       "model_id": "f7316836b9fe4208a17442f0d6b2e954",
       "version_major": 2,
       "version_minor": 0
      },
      "text/plain": [
       "tokenizer.json: 0.00B [00:00, ?B/s]"
      ]
     },
     "metadata": {},
     "output_type": "display_data"
    },
    {
     "data": {
      "application/vnd.jupyter.widget-view+json": {
       "model_id": "1fbcad0f1e884b5fb0fe220a839f840b",
       "version_major": 2,
       "version_minor": 0
      },
      "text/plain": [
       "special_tokens_map.json: 0.00B [00:00, ?B/s]"
      ]
     },
     "metadata": {},
     "output_type": "display_data"
    },
    {
     "name": "stderr",
     "output_type": "stream",
     "text": [
      "Device set to use cpu\n",
      "The model 'T5ForConditionalGeneration' is not supported for text-generation. Supported models are ['AriaTextForCausalLM', 'BambaForCausalLM', 'BartForCausalLM', 'BertLMHeadModel', 'BertGenerationDecoder', 'BigBirdForCausalLM', 'BigBirdPegasusForCausalLM', 'BioGptForCausalLM', 'BlenderbotForCausalLM', 'BlenderbotSmallForCausalLM', 'BloomForCausalLM', 'CamembertForCausalLM', 'LlamaForCausalLM', 'CodeGenForCausalLM', 'CohereForCausalLM', 'Cohere2ForCausalLM', 'CpmAntForCausalLM', 'CTRLLMHeadModel', 'Data2VecTextForCausalLM', 'DbrxForCausalLM', 'DeepseekV3ForCausalLM', 'DiffLlamaForCausalLM', 'ElectraForCausalLM', 'Emu3ForCausalLM', 'ErnieForCausalLM', 'FalconForCausalLM', 'FalconMambaForCausalLM', 'FuyuForCausalLM', 'GemmaForCausalLM', 'Gemma2ForCausalLM', 'Gemma3ForConditionalGeneration', 'Gemma3ForCausalLM', 'GitForCausalLM', 'GlmForCausalLM', 'Glm4ForCausalLM', 'GotOcr2ForConditionalGeneration', 'GPT2LMHeadModel', 'GPT2LMHeadModel', 'GPTBigCodeForCausalLM', 'GPTNeoForCausalLM', 'GPTNeoXForCausalLM', 'GPTNeoXJapaneseForCausalLM', 'GPTJForCausalLM', 'GraniteForCausalLM', 'GraniteMoeForCausalLM', 'GraniteMoeSharedForCausalLM', 'HeliumForCausalLM', 'JambaForCausalLM', 'JetMoeForCausalLM', 'LlamaForCausalLM', 'Llama4ForCausalLM', 'Llama4ForCausalLM', 'MambaForCausalLM', 'Mamba2ForCausalLM', 'MarianForCausalLM', 'MBartForCausalLM', 'MegaForCausalLM', 'MegatronBertForCausalLM', 'MistralForCausalLM', 'MixtralForCausalLM', 'MllamaForCausalLM', 'MoshiForCausalLM', 'MptForCausalLM', 'MusicgenForCausalLM', 'MusicgenMelodyForCausalLM', 'MvpForCausalLM', 'NemotronForCausalLM', 'OlmoForCausalLM', 'Olmo2ForCausalLM', 'OlmoeForCausalLM', 'OpenLlamaForCausalLM', 'OpenAIGPTLMHeadModel', 'OPTForCausalLM', 'PegasusForCausalLM', 'PersimmonForCausalLM', 'PhiForCausalLM', 'Phi3ForCausalLM', 'Phi4MultimodalForCausalLM', 'PhimoeForCausalLM', 'PLBartForCausalLM', 'ProphetNetForCausalLM', 'QDQBertLMHeadModel', 'Qwen2ForCausalLM', 'Qwen2MoeForCausalLM', 'Qwen3ForCausalLM', 'Qwen3MoeForCausalLM', 'RecurrentGemmaForCausalLM', 'ReformerModelWithLMHead', 'RemBertForCausalLM', 'RobertaForCausalLM', 'RobertaPreLayerNormForCausalLM', 'RoCBertForCausalLM', 'RoFormerForCausalLM', 'RwkvForCausalLM', 'Speech2Text2ForCausalLM', 'StableLmForCausalLM', 'Starcoder2ForCausalLM', 'TransfoXLLMHeadModel', 'TrOCRForCausalLM', 'WhisperForCausalLM', 'XGLMForCausalLM', 'XLMWithLMHeadModel', 'XLMProphetNetForCausalLM', 'XLMRobertaForCausalLM', 'XLMRobertaXLForCausalLM', 'XLNetLMHeadModel', 'XmodForCausalLM', 'ZambaForCausalLM', 'Zamba2ForCausalLM'].\n",
      "Token indices sequence length is longer than the specified maximum sequence length for this model (1572 > 512). Running this sequence through the model will result in indexing errors\n"
     ]
    },
    {
     "name": "stdout",
     "output_type": "stream",
     "text": [
      "10\n",
      "10\n",
      "[{'generated_text': \"Instruction:\\n\\n    Reviews are given to you as input in the following format:\\n    with following information: \\n    ['author_name', 'number_authors_comments', 'rating', 'text', 'photo_attached', 'responses', 'number_of_responses', 'location_name', 'location_type', 'MISC']\\n\\n\\n\\n    Classify each review into one of the following labels based on the policies:\\n\\n\\n\\n    Classify as ADVERTISEMENT \\n        if the review fullfills for example one of the following:\\n        - contains links to other websites than the shop_website \\n        - contains phone numbers\\n        - review mentions other businesses\\n\\n\\n\\n    IRRELEVANT if if the review \\n        - Talks about unrelated topics (not about the location). Take the location_type and the location_name into accoutn wehn evaluating if the location fits to the topic of the review.\\n\\n\\n    RANTS if if the review is a negative review where\\n        - the text indicates that the reviewer has never been to the location\\n\\n\\n\\n    GOOD if the review violates none of the policies above. The following properties indicate additionalythat the review is a GOOD review:\\n        - there is a photo attached\\n        - there are responses meaningful responses to the review\\n        - the review refers to specific aspects of the location (e.g., service, ambiance, product quality). Consider the general_location_type of the location to determine relevant aspects.\\n        - negative reviews that do not violate the policies above are also classified as GOOD reviews.\\n\\n\\n\\n\\n    In addition here are some Examples:\\n\\n    input:\\nauthor_name                                                Michelle Tahamont\\nnumber_authors_comments                                                   -1\\nrating                                                                     5\\ntext                       Leslie is so amazing! I reached out to her for...\\nphoto_attached                                                            No\\nresponses                                                                   \\nnumber_of_responses                                                        0\\nlocation_name                                    Leslie Carbajal Photography\\nlocation_type                      ['Photographer', 'Service establishment']\\nMISC                       {'From the business': ['Identifies as Black-ow...\\nName: 260, dtype: object\\noutput: GOOD\\n\\ninput:\\nauthor_name                                                 Jennifer Cazares\\nnumber_authors_comments                                                   -1\\nrating                                                                     5\\ntext                       Leslie is the most friendly videographer I hav...\\nphoto_attached                                                            No\\nresponses                                                                   \\nnumber_of_responses                                                        0\\nlocation_name                                    Leslie Carbajal Photography\\nlocation_type                      ['Photographer', 'Service establishment']\\nMISC                       {'From the business': ['Identifies as Black-ow...\\nName: 84, dtype: object\\noutput: GOOD\\n\\ninput:\\nauthor_name                                                      rezan asfaw\\nnumber_authors_comments                                                   -1\\nrating                                                                     5\\ntext                       I had a very good experience with these guys. ...\\nphoto_attached                                                            No\\nresponses                                                                   \\nnumber_of_responses                                                        0\\nlocation_name                              Five Or Free Electrical Solutions\\nlocation_type                       ['Electrician', 'Service establishment']\\nMISC                                                       No MISC available\\nName: 132, dtype: object\\noutput: GOOD\\n\\ninput:\\nauthor_name                                                      Victor Mora\\nnumber_authors_comments                                                   -1\\nrating                                                                     1\\ntext                       Ask to speak to supervisor 1 month ago I call ...\\nphoto_attached                                                            No\\nresponses                                                                   \\nnumber_of_responses                                                        0\\nlocation_name                        American Leak Detection of Wilkes-Barre\\nlocation_type              ['Swimming pool repair service', 'Service esta...\\nMISC                                                       No MISC available\\nName: 272, dtype: object\\noutput: GOOD\\n\\ninput:\\nauthor_name                                                  Emalee McDonald\\nnumber_authors_comments                                                   -1\\nrating                                                                     5\\ntext                                                                        \\nphoto_attached                                                            No\\nresponses                                                                   \\nnumber_of_responses                                                        0\\nlocation_name                                Spirit Connections with Brianna\\nlocation_type              ['Psychic', 'Service establishment', 'Reiki th...\\nMISC                       {'From the business': ['Identifies as women-le...\\nName: 294, dtype: object\\noutput: GOOD\\n\\ninput:\\nauthor_name                                                    Melissa Croom\\nnumber_authors_comments                                                   -1\\nrating                                                                     5\\ntext                       Leslie is amazing !! She did my sons 2 year ol...\\nphoto_attached                                                           Yes\\nresponses                                                                   \\nnumber_of_responses                                                        0\\nlocation_name                                    Leslie Carbajal Photography\\nlocation_type                      ['Photographer', 'Service establishment']\\nMISC                       {'From the business': ['Identifies as Black-ow...\\nName: 252, dtype: object\\noutput: GOOD\\n\\ninput:\\nauthor_name                                                    Amber Manning\\nnumber_authors_comments                                                   -1\\nrating                                                                     5\\ntext                       There are not enough words to describe how inc...\\nphoto_attached                                                            No\\nresponses                                                                   \\nnumber_of_responses                                                        0\\nlocation_name                                    Leslie Carbajal Photography\\nlocation_type                      ['Photographer', 'Service establishment']\\nMISC                       {'From the business': ['Identifies as Black-ow...\\nName: 91, dtype: object\\noutput: GOOD\\n\\ninput:\\nauthor_name                                                      Seth Walker\\nnumber_authors_comments                                                   -1\\nrating                                                                     5\\ntext                       I have always admired AO's builds and had one ...\\nphoto_attached                                                            No\\nresponses                  {'time': 1495658958540, 'text': 'Thank you Set...\\nnumber_of_responses                                                        1\\nlocation_name                                       Alternative Offroad, Inc\\nlocation_type                        ['ATV dealer', 'Service establishment']\\nMISC                                                       No MISC available\\nName: 31, dtype: object\\noutput: GOOD\\n\\ninput:\\nauthor_name                                                      Sosi Audain\\nnumber_authors_comments                                                   -1\\nrating                                                                     5\\ntext                       Eric is epic!  He taught music production to m...\\nphoto_attached                                                            No\\nresponses                  {'time': 1547089042920, 'text': 'Thank you Lin...\\nnumber_of_responses                                                        1\\nlocation_name                            Mix Major - Electronic Music School\\nlocation_type                      ['Music school', 'Service establishment']\\nMISC                                 {'Service options': ['Online classes']}\\nName: 79, dtype: object\\noutput: GOOD\\n\\ninput:\\nauthor_name                                                       What the Z\\nnumber_authors_comments                                                   -1\\nrating                                                                     5\\ntext                              One of the best places for off road parts.\\nphoto_attached                                                            No\\nresponses                  {'time': 1496764406885, 'text': 'Thank you!! W...\\nnumber_of_responses                                                        1\\nlocation_name                                       Alternative Offroad, Inc\\nlocation_type                        ['ATV dealer', 'Service establishment']\\nMISC                                                       No MISC available\\nName: 32, dtype: object\\noutput: GOOD\\n\\npredict for following data: \\ninput:\\nauthor_name                                                Teijah Armbruster\\nnumber_authors_comments                                                   -1\\nrating                                                                     5\\ntext                       Leslie had just finished a newborn photography...\\nphoto_attached                                                            No\\nresponses                                                                   \\nnumber_of_responses                                                        0\\nlocation_name                                    Leslie Carbajal Photography\\nlocation_type                      ['Photographer', 'Service establishment']\\nMISC                       {'From the business': ['Identifies as Black-ow...\\nName: 108, dtype: object\\noutput: \"}]\n"
     ]
    }
   ],
   "source": [
    "#tokenizer = T5Tokenizer.from_pretrained(\"google/flan-t5-base\")\n",
    "#model = T5ForConditionalGeneration.from_pretrained(\"google/flan-t5-base\")\n",
    "\n",
    "\n",
    "def evaluate_fewshot(examples_feature,examples_labels, data, format):\n",
    "    pipe = pipeline(\"text-generation\", model=\"google/flan-t5-small\")\n",
    "    #model_features = ['author_name' ,'number_authors_comments', 'rating', 'text','general_location_type', 'specific_location_type', 'time', 'photo_attached', 'responses','number_of_responses']\n",
    "    # model_feature_fewshot = ['author_name' ,'number_authors_comments', \n",
    "    #              'rating', 'text',  \n",
    "    #               'time', 'photo_attached', \n",
    "    #              'responses','number_of_responses','location_name', 'location_type', 'MISC' ]\n",
    "    prompt = f\"\"\"Instruction:\n",
    "\n",
    "    Reviews are given to you as input in the following format:\n",
    "    with following information: \n",
    "    {format}\n",
    "\n",
    "    \n",
    "\n",
    "    Classify each review into one of the following labels based on the policies:\n",
    "\n",
    "    \n",
    "\n",
    "    Classify as ADVERTISEMENT \n",
    "        if the review fullfills for example one of the following:\n",
    "        - contains links to other websites than the shop_website \n",
    "        - contains phone numbers\n",
    "        - review mentions other businesses\n",
    "\n",
    "\n",
    "\n",
    "    IRRELEVANT if if the review \n",
    "        - Talks about unrelated topics (not about the location). Take the location_type and the location_name into accoutn wehn evaluating if the location fits to the topic of the review.\n",
    "\n",
    "\n",
    "    RANTS if if the review is a negative review where\n",
    "        - the text indicates that the reviewer has never been to the location\n",
    "\n",
    "\n",
    "\n",
    "    GOOD if the review violates none of the policies above. The following properties indicate additionalythat the review is a GOOD review:\n",
    "        - there is a photo attached\n",
    "        - there are responses meaningful responses to the review\n",
    "        - the review refers to specific aspects of the location (e.g., service, ambiance, product quality). Consider the general_location_type of the location to determine relevant aspects.\n",
    "        - negative reviews that do not violate the policies above are also classified as GOOD reviews.\n",
    "\n",
    "\n",
    "\n",
    "\n",
    "    In addition here are some Examples:\n",
    "\n",
    "    \"\"\"\n",
    "    print(examples_feature.shape[0])\n",
    "    print(examples_labels.shape[0])\n",
    "\n",
    "    for i in range(0,examples_feature.shape[0] ):\n",
    "        prompt += \"input:\\n\" + str(examples_feature.iloc[i]) +\"\\noutput: \" + examples_labels.iloc[i] +\"\\n\\n\"\n",
    "\n",
    "    prompt += \"predict for following data: \\ninput:\\n\" + str(data) + \"\\noutput: \" \n",
    "\n",
    "\n",
    "    \n",
    "    #input_ids = tokenizer(prompt, return_tensors=\"pt\").input_ids\n",
    "\n",
    "    #outputs = model.generate(input_ids)\n",
    "    result = pipe(prompt, max_new_tokens=20)\n",
    "    return result\n",
    "\n",
    "print(evaluate_fewshot(x_train.head(10), y_train.head(10), str(x_test.iloc[1]), model_feature_fewshot))"
   ]
  },
  {
   "cell_type": "code",
   "execution_count": null,
   "id": "a1e1e368",
   "metadata": {},
   "outputs": [],
   "source": []
  }
 ],
 "metadata": {
  "kernelspec": {
   "display_name": "Python 3",
   "language": "python",
   "name": "python3"
  },
  "language_info": {
   "codemirror_mode": {
    "name": "ipython",
    "version": 3
   },
   "file_extension": ".py",
   "mimetype": "text/x-python",
   "name": "python",
   "nbconvert_exporter": "python",
   "pygments_lexer": "ipython3",
   "version": "3.12.11"
  }
 },
 "nbformat": 4,
 "nbformat_minor": 5
}
