{
 "cells": [
  {
   "cell_type": "code",
   "execution_count": 23,
   "id": "50aa2162",
   "metadata": {},
   "outputs": [
    {
     "name": "stdout",
     "output_type": "stream",
     "text": [
      "<pad> RANTS</s>\n"
     ]
    }
   ],
   "source": [
    "from transformers import T5Tokenizer, T5ForConditionalGeneration\n",
    "\n",
    "tokenizer = T5Tokenizer.from_pretrained(\"google/flan-t5-base\")\n",
    "model = T5ForConditionalGeneration.from_pretrained(\"google/flan-t5-base\")\n",
    "\n",
    "input_text = \"\"\"Instruction:\n",
    "Classify each review into one of the following labels based on the policies:\n",
    "\n",
    "GOOD → Review is relevant, about the location, matches the type of location, no violation.\n",
    "\n",
    "ADVERTISEMENT → Contains promotional content or links.\n",
    "\n",
    "IRRELEVANT → Talks about unrelated topics (not about the location).\n",
    "\n",
    "RANTS → Complaint/rant without evidence of actual visit (e.g., \"never been here\").\n",
    "\n",
    "Examples:\n",
    "\n",
    "Input: \"Best pizza! Visit www.pizzapromo.com\n",
    " for discounts!\"\n",
    "Output: ADVERTISEMENT\n",
    "\n",
    "Input: \"I love my new phone, but this place is too noisy.\"\n",
    "Output: IRRELEVANT\n",
    "\n",
    "Input: \"Never been here, but I heard it’s terrible.\"\n",
    "Output: RANTS\n",
    "\n",
    "Input: \"Andrea is amazing. Our dog loves her and she always takes care of him.\"\n",
    "Output: GOOD\n",
    "\n",
    "Input: \"Never called back.\"\n",
    "Output: RANTS\n",
    "\n",
    "Input: \"Limited information on the website.\"\n",
    "Output: GOOD\n",
    "\n",
    "Input: \"They don’t answer emails\"\n",
    "Output: RANTS\n",
    "\n",
    "Input: \"Get new headphones in my shop\"\n",
    "Output: ADVERTISEMENT\n",
    "\n",
    "Input: \"I think the politic agenda of chancellore merz is pretty good\"\n",
    "Output: IRRELEVANT\n",
    "\n",
    "Input:  \"Do you want to hear more about ? then ypu should visit this place\"\n",
    "Output: GOOD\n",
    "\n",
    "Input:  \"nice place\"\n",
    "Output: GOOD\n",
    "\n",
    "Input:  \"worth it\"\n",
    "Output: GOOD\n",
    "\n",
    "Input:  \"worth it, but I didn't like the service\"\n",
    "Output: GOOD\n",
    "\n",
    "Input:  \"vibe was not good\"\n",
    "Output: GOOD\n",
    "\n",
    "Now classify the following review:\n",
    "Input:  \"vibe was not good\"\n",
    "Output:\"\"\"\n",
    "input_ids = tokenizer(input_text, return_tensors=\"pt\").input_ids\n",
    "\n",
    "outputs = model.generate(input_ids)\n",
    "print(tokenizer.decode(outputs[0]))"
   ]
  }
 ],
 "metadata": {
  "kernelspec": {
   "display_name": "Python 3",
   "language": "python",
   "name": "python3"
  },
  "language_info": {
   "codemirror_mode": {
    "name": "ipython",
    "version": 3
   },
   "file_extension": ".py",
   "mimetype": "text/x-python",
   "name": "python",
   "nbconvert_exporter": "python",
   "pygments_lexer": "ipython3",
   "version": "3.12.11"
  }
 },
 "nbformat": 4,
 "nbformat_minor": 5
}
